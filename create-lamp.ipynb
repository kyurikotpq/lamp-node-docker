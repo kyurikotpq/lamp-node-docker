{
 "cells": [
  {
   "cell_type": "markdown",
   "metadata": {},
   "source": [
    "# BEFORE YOU BEGIN\n",
    "\n",
    "Make sure you already ran `docker build -t $USER/alpine-lamp .`\n",
    "\n",
    "(the `.` referring to this project's directory)"
   ]
  },
  {
   "cell_type": "code",
   "execution_count": null,
   "metadata": {},
   "outputs": [],
   "source": [
    "# Form the command line output that will create a new container for the user :)\n",
    "def create_docker(HOST_DIR, PORT, username, password):\n",
    "    COMMAND_LINES = [\n",
    "        f\"sudo docker run -d -v {HOST_DIR}:/var/www/localhost/htdocs/\",\n",
    "        f\"-e USERNAME={username} -e MYSQL_ROOT_PASSWORD={password}\",\n",
    "        f\"--restart always\",\n",
    "        f'-p {PORT}:80 --name {username} $USER/alpine-lamp'\n",
    "    ]\n",
    "\n",
    "    delimiter = \" \"\n",
    "    COMMAND = delimiter.join(COMMAND_LINES)\n",
    "\n",
    "    print(COMMAND)\n"
   ]
  },
  {
   "cell_type": "code",
   "execution_count": null,
   "metadata": {},
   "outputs": [],
   "source": [
    "# REPLACE THESE WITH YOUR OWN VALUES\n",
    "HOST_DIR = '/Users/lmao/Documents/htdocs' # The folder to bind the container's htdocs folder to\n",
    "PORT = 8888                               # Docker container port number\n",
    "username = 'blablabla'                    # Alpine Linux username\n",
    "password = 'blablabla'                    # MySQL password\n",
    "\n",
    "# Copy and paste this function's output into your Terminal\n",
    "create_docker(HOST_DIR, PORT, username, password)"
   ]
  }
 ],
 "metadata": {
  "kernelspec": {
   "display_name": "Python 3",
   "language": "python",
   "name": "python3"
  },
  "language_info": {
   "codemirror_mode": {
    "name": "ipython",
    "version": 3
   },
   "file_extension": ".py",
   "mimetype": "text/x-python",
   "name": "python",
   "nbconvert_exporter": "python",
   "pygments_lexer": "ipython3",
   "version": "3.9.12"
  },
  "orig_nbformat": 4
 },
 "nbformat": 4,
 "nbformat_minor": 2
}
